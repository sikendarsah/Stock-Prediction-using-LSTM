{
 "cells": [
  {
   "cell_type": "markdown",
   "metadata": {},
   "source": [
    "# Recurrent Neural Network - Long short-term memory (LSTM) \n",
    "\n",
    "The purpose of this study was to build a LSTM Model to Predict Stock Prices"
   ]
  },
  {
   "cell_type": "code",
   "execution_count": 372,
   "metadata": {},
   "outputs": [],
   "source": [
    "import pandas as pd # to aide in loading and manipulating our datasets.\n",
    "import numpy as np # for scientific computation\n",
    "import matplotlib.pyplot as plt # for plotting graphs\n",
    "from sklearn.preprocessing import MinMaxScaler\n",
    "from tensorflow.keras.models import Sequential\n",
    "from tensorflow.keras.layers import Dense, Dropout, LSTM\n",
    "import tensorflow as tf"
   ]
  },
  {
   "cell_type": "markdown",
   "metadata": {},
   "source": [
    "## PART 1 - Data Handling"
   ]
  },
  {
   "cell_type": "code",
   "execution_count": 343,
   "metadata": {},
   "outputs": [],
   "source": [
    "# Loading the Dataset\n",
    "dataset_train = pd.read_csv('dataset_2012_2018.csv')"
   ]
  },
  {
   "cell_type": "code",
   "execution_count": 344,
   "metadata": {},
   "outputs": [],
   "source": [
    "# Drop null values\n",
    "dataset_train = dataset_train.dropna()\n",
    "# another way: dataset_train.dropna(inplace=True)"
   ]
  },
  {
   "cell_type": "code",
   "execution_count": 345,
   "metadata": {},
   "outputs": [
    {
     "data": {
      "text/plain": [
       "(1759, 7)"
      ]
     },
     "execution_count": 345,
     "metadata": {},
     "output_type": "execute_result"
    }
   ],
   "source": [
    "# The shape property returns a tuple representing the dimensionality of the DataFrame. \n",
    "# The format of shape is (rows, columns)\n",
    "dataset_train.shape"
   ]
  },
  {
   "cell_type": "code",
   "execution_count": 346,
   "metadata": {},
   "outputs": [
    {
     "data": {
      "text/html": [
       "<div>\n",
       "<style scoped>\n",
       "    .dataframe tbody tr th:only-of-type {\n",
       "        vertical-align: middle;\n",
       "    }\n",
       "\n",
       "    .dataframe tbody tr th {\n",
       "        vertical-align: top;\n",
       "    }\n",
       "\n",
       "    .dataframe thead th {\n",
       "        text-align: right;\n",
       "    }\n",
       "</style>\n",
       "<table border=\"1\" class=\"dataframe\">\n",
       "  <thead>\n",
       "    <tr style=\"text-align: right;\">\n",
       "      <th></th>\n",
       "      <th>Date</th>\n",
       "      <th>Open</th>\n",
       "      <th>High</th>\n",
       "      <th>Low</th>\n",
       "      <th>Close</th>\n",
       "      <th>Adj Close</th>\n",
       "      <th>Volume</th>\n",
       "    </tr>\n",
       "  </thead>\n",
       "  <tbody>\n",
       "    <tr>\n",
       "      <th>0</th>\n",
       "      <td>2012-01-03</td>\n",
       "      <td>25.370001</td>\n",
       "      <td>26.340000</td>\n",
       "      <td>25.320000</td>\n",
       "      <td>26.110001</td>\n",
       "      <td>23.034264</td>\n",
       "      <td>12754300</td>\n",
       "    </tr>\n",
       "    <tr>\n",
       "      <th>1</th>\n",
       "      <td>2012-01-04</td>\n",
       "      <td>25.910000</td>\n",
       "      <td>26.580000</td>\n",
       "      <td>25.910000</td>\n",
       "      <td>26.459999</td>\n",
       "      <td>23.343037</td>\n",
       "      <td>12351500</td>\n",
       "    </tr>\n",
       "    <tr>\n",
       "      <th>2</th>\n",
       "      <td>2012-01-05</td>\n",
       "      <td>26.309999</td>\n",
       "      <td>26.370001</td>\n",
       "      <td>25.870001</td>\n",
       "      <td>26.110001</td>\n",
       "      <td>23.034264</td>\n",
       "      <td>8568600</td>\n",
       "    </tr>\n",
       "    <tr>\n",
       "      <th>3</th>\n",
       "      <td>2012-01-06</td>\n",
       "      <td>26.250000</td>\n",
       "      <td>26.250000</td>\n",
       "      <td>25.639999</td>\n",
       "      <td>25.690001</td>\n",
       "      <td>22.663742</td>\n",
       "      <td>8532100</td>\n",
       "    </tr>\n",
       "    <tr>\n",
       "      <th>4</th>\n",
       "      <td>2012-01-09</td>\n",
       "      <td>26.080000</td>\n",
       "      <td>26.969999</td>\n",
       "      <td>25.930000</td>\n",
       "      <td>26.879999</td>\n",
       "      <td>23.713554</td>\n",
       "      <td>26046600</td>\n",
       "    </tr>\n",
       "  </tbody>\n",
       "</table>\n",
       "</div>"
      ],
      "text/plain": [
       "         Date       Open       High        Low      Close  Adj Close    Volume\n",
       "0  2012-01-03  25.370001  26.340000  25.320000  26.110001  23.034264  12754300\n",
       "1  2012-01-04  25.910000  26.580000  25.910000  26.459999  23.343037  12351500\n",
       "2  2012-01-05  26.309999  26.370001  25.870001  26.110001  23.034264   8568600\n",
       "3  2012-01-06  26.250000  26.250000  25.639999  25.690001  22.663742   8532100\n",
       "4  2012-01-09  26.080000  26.969999  25.930000  26.879999  23.713554  26046600"
      ]
     },
     "execution_count": 346,
     "metadata": {},
     "output_type": "execute_result"
    }
   ],
   "source": [
    "# Check the head of our dataset to give us a glimpse into the kind of dataset we’re working with.\n",
    "dataset_train.head()"
   ]
  },
  {
   "cell_type": "code",
   "execution_count": 347,
   "metadata": {},
   "outputs": [],
   "source": [
    "# Selecting the Open column that we’ll use in our modeling\n",
    "dataset_train = dataset_train.iloc[:, 1:2].values \n",
    "# notice ==>> df.iloc[:, 1:2] returns a dataframe whereas df.iloc[:, 1] returns a series \n",
    "# notice ==>\"Open\" column is the starting price while the Close column is the final price of a stock on a particular trading day. "
   ]
  },
  {
   "cell_type": "code",
   "execution_count": 348,
   "metadata": {},
   "outputs": [
    {
     "data": {
      "text/plain": [
       "array([[25.370001],\n",
       "       [25.91    ],\n",
       "       [26.309999],\n",
       "       ...,\n",
       "       [12.      ],\n",
       "       [12.56    ],\n",
       "       [13.01    ]])"
      ]
     },
     "execution_count": 348,
     "metadata": {},
     "output_type": "execute_result"
    }
   ],
   "source": [
    "dataset_train \n"
   ]
  },
  {
   "cell_type": "markdown",
   "metadata": {},
   "source": [
    "#### Feature Scaling\n",
    " * We have to scale our data for optimal performance. \n",
    " * Scikit MinMaxScaler will scale our dataset to numbers between zero and one."
   ]
  },
  {
   "cell_type": "code",
   "execution_count": 349,
   "metadata": {},
   "outputs": [],
   "source": [
    "# Normalization of the training set - Transform features by scaling each feature to a given range.\n",
    "normalizer = MinMaxScaler(feature_range=(0,1))\n",
    "train_set_scaled = normalizer.fit_transform(dataset_train) "
   ]
  },
  {
   "cell_type": "code",
   "execution_count": 350,
   "metadata": {},
   "outputs": [
    {
     "data": {
      "text/plain": [
       "array([[0.76005408],\n",
       "       [0.77830345],\n",
       "       [0.7918215 ],\n",
       "       ...,\n",
       "       [0.30821222],\n",
       "       [0.32713754],\n",
       "       [0.34234538]])"
      ]
     },
     "execution_count": 350,
     "metadata": {},
     "output_type": "execute_result"
    }
   ],
   "source": [
    "train_set_scaled"
   ]
  },
  {
   "cell_type": "markdown",
   "metadata": {},
   "source": [
    "#### Creating Data with Timesteps\n",
    "* LSTM expect our data to be in a specific format, usually a 3D array. \n",
    "* We start by creating data in 90 timesteps and converting it into an array using NumPy. \n",
    "* Next, we convert the data into a 3D dimension array with X_train samples, 90 timestamps, and one feature at each step."
   ]
  },
  {
   "cell_type": "code",
   "execution_count": 351,
   "metadata": {},
   "outputs": [],
   "source": [
    "# Creating data with timesteps for the train_set_scaled\n",
    "# timesteps ==>> to train the algorithm, I will check 45 rows on each step  \n",
    "x_train = []\n",
    "y_train = []\n",
    "\n",
    "for i in range(45, 1759): \n",
    "    x_train.append(train_set_scaled[i-45:i, 0])  \n",
    "    # in other words => first iteration: [45-45:45, collumn index: 0] (from zero until 44)\n",
    "    # => segunda iteration: [46-45:46, collumn index: 0] (from 1 until 45)\n",
    "    # => segunda iteration: [47-45:47, collumn index: 0] (from 2 until 46)\n",
    "    # etc\n",
    "    y_train.append(train_set_scaled[i, 0])  # in other words => stores the index that it wants to predict \n",
    "\n",
    "\n",
    "x_train, y_train = np.array(x_train), np.array(y_train) # I want the data to be in an numpy array\n",
    "x_train = np.reshape(x_train, (x_train.shape[0], x_train.shape[1], 1)) \n",
    "# Reshape method will create dimensions (it will have 3 dimensions: the two we had and one more)\n",
    "# NOTICE == >> we have to reshape our data to 3D because tensorflow requires it to run"
   ]
  },
  {
   "cell_type": "markdown",
   "metadata": {},
   "source": [
    "## PART 2 - Data Analysis - Building the LSTM"
   ]
  },
  {
   "cell_type": "code",
   "execution_count": 352,
   "metadata": {},
   "outputs": [],
   "source": [
    "#In order to build the LSTM, we need to import a couple of modules from Keras:\n",
    "\n",
    "from keras.models import Sequential #Sequential for initializing the neural network\n",
    "from keras.layers import Dense #Dense for adding a densely connected neural network layer\n",
    "from keras.layers import LSTM #LSTM for adding the Long Short-Term Memory layer\n",
    "from keras.layers import Dropout #Dropout for adding dropout layers that prevent overfitting"
   ]
  },
  {
   "cell_type": "markdown",
   "metadata": {},
   "source": [
    "### Building the LSTM\n",
    "* We add the LSTM layer and later add a few Dropout layers to prevent overfitting. \n",
    "* We add the LSTM layer with the following arguments:\n",
    "* 50 units which is the dimensionality of the output space\n",
    "* return_sequences=True (determines to return the last output in the output sequence, or the full sequence)\n",
    "* input_shape as the shape of our training set. "
   ]
  },
  {
   "cell_type": "code",
   "execution_count": 353,
   "metadata": {},
   "outputs": [
    {
     "name": "stdout",
     "output_type": "stream",
     "text": [
      "Epoch 1/100\n",
      "54/54 [==============================] - 23s 107ms/step - loss: 0.0209 - mean_absolute_error: 0.0966\n",
      "Epoch 2/100\n",
      "54/54 [==============================] - 6s 107ms/step - loss: 0.0052 - mean_absolute_error: 0.0527\n",
      "Epoch 3/100\n",
      "54/54 [==============================] - 6s 108ms/step - loss: 0.0052 - mean_absolute_error: 0.0516\n",
      "Epoch 4/100\n",
      "54/54 [==============================] - 6s 105ms/step - loss: 0.0035 - mean_absolute_error: 0.0434 2s - loss: 0.0036 \n",
      "Epoch 5/100\n",
      "54/54 [==============================] - 6s 112ms/step - loss: 0.0038 - mean_absolute_error: 0.0450\n",
      "Epoch 6/100\n",
      "54/54 [==============================] - 6s 113ms/step - loss: 0.0032 - mean_absolute_error: 0.0419\n",
      "Epoch 7/100\n",
      "54/54 [==============================] - 7s 121ms/step - loss: 0.0027 - mean_absolute_error: 0.0385\n",
      "Epoch 8/100\n",
      "54/54 [==============================] - 6s 118ms/step - loss: 0.0022 - mean_absolute_error: 0.0347\n",
      "Epoch 9/100\n",
      "54/54 [==============================] - 8s 149ms/step - loss: 0.0023 - mean_absolute_error: 0.0353\n",
      "Epoch 10/100\n",
      "54/54 [==============================] - 6s 111ms/step - loss: 0.0022 - mean_absolute_error: 0.0347\n",
      "Epoch 11/100\n",
      "54/54 [==============================] - 5s 100ms/step - loss: 0.0018 - mean_absolute_error: 0.0311 2s - loss: 0.0016 -\n",
      "Epoch 12/100\n",
      "54/54 [==============================] - 6s 107ms/step - loss: 0.0021 - mean_absolute_error: 0.0334\n",
      "Epoch 13/100\n",
      "54/54 [==============================] - 6s 108ms/step - loss: 0.0019 - mean_absolute_error: 0.0316\n",
      "Epoch 14/100\n",
      "54/54 [==============================] - 6s 107ms/step - loss: 0.0017 - mean_absolute_error: 0.0302\n",
      "Epoch 15/100\n",
      "54/54 [==============================] - 5s 102ms/step - loss: 0.0018 - mean_absolute_error: 0.0313\n",
      "Epoch 16/100\n",
      "54/54 [==============================] - 6s 108ms/step - loss: 0.0015 - mean_absolute_error: 0.0284\n",
      "Epoch 17/100\n",
      "54/54 [==============================] - 6s 107ms/step - loss: 0.0013 - mean_absolute_error: 0.0264\n",
      "Epoch 18/100\n",
      "54/54 [==============================] - 6s 104ms/step - loss: 0.0016 - mean_absolute_error: 0.0285 0s - loss: 0.0016 - mean_absolute_error: 0.028\n",
      "Epoch 19/100\n",
      "54/54 [==============================] - 6s 104ms/step - loss: 0.0014 - mean_absolute_error: 0.0264 3s - loss: 0.0014 - ETA: 0s - loss: 0.0014 - mean_absolute_error: \n",
      "Epoch 20/100\n",
      "54/54 [==============================] - 6s 105ms/step - loss: 0.0013 - mean_absolute_error: 0.0266 1s - loss: 0.0013 - mean_absol\n",
      "Epoch 21/100\n",
      "54/54 [==============================] - 5s 102ms/step - loss: 0.0013 - mean_absolute_error: 0.0261\n",
      "Epoch 22/100\n",
      "54/54 [==============================] - 5s 100ms/step - loss: 0.0011 - mean_absolute_error: 0.0244 0s - loss: 0.0011 - mean_absolute_erro\n",
      "Epoch 23/100\n",
      "54/54 [==============================] - 6s 108ms/step - loss: 0.0013 - mean_absolute_error: 0.0267\n",
      "Epoch 24/100\n",
      "54/54 [==============================] - 5s 101ms/step - loss: 0.0011 - mean_absolute_error: 0.0239\n",
      "Epoch 25/100\n",
      "54/54 [==============================] - 5s 100ms/step - loss: 0.0011 - mean_absolute_error: 0.0239 0s - loss: 0.0010 - mean_absolute_error\n",
      "Epoch 26/100\n",
      "54/54 [==============================] - 6s 105ms/step - loss: 9.9275e-04 - mean_absolute_error: 0.0231 4s - loss: \n",
      "Epoch 27/100\n",
      "54/54 [==============================] - 6s 106ms/step - loss: 0.0012 - mean_absolute_error: 0.0251\n",
      "Epoch 28/100\n",
      "54/54 [==============================] - 6s 108ms/step - loss: 0.0010 - mean_absolute_error: 0.0239\n",
      "Epoch 29/100\n",
      "54/54 [==============================] - 6s 104ms/step - loss: 0.0011 - mean_absolute_error: 0.0239\n",
      "Epoch 30/100\n",
      "54/54 [==============================] - 6s 105ms/step - loss: 9.7729e-04 - mean_absolute_error: 0.0233\n",
      "Epoch 31/100\n",
      "54/54 [==============================] - 6s 109ms/step - loss: 8.9784e-04 - mean_absolute_error: 0.0223\n",
      "Epoch 32/100\n",
      "54/54 [==============================] - 6s 106ms/step - loss: 8.6981e-04 - mean_absolute_error: 0.0216\n",
      "Epoch 33/100\n",
      "54/54 [==============================] - 6s 109ms/step - loss: 9.3812e-04 - mean_absolute_error: 0.0225 2s - loss: 9.6286e-04 -\n",
      "Epoch 34/100\n",
      "54/54 [==============================] - 6s 102ms/step - loss: 9.7298e-04 - mean_absolute_error: 0.0222 1s - loss: 9.9380e-04 - mean_absolu\n",
      "Epoch 35/100\n",
      "54/54 [==============================] - 6s 102ms/step - loss: 8.7577e-04 - mean_absolute_error: 0.0214\n",
      "Epoch 36/100\n",
      "54/54 [==============================] - 5s 101ms/step - loss: 9.5240e-04 - mean_absolute_error: 0.0228\n",
      "Epoch 37/100\n",
      "54/54 [==============================] - 6s 106ms/step - loss: 8.6885e-04 - mean_absolute_error: 0.0216 \n",
      "Epoch 38/100\n",
      "54/54 [==============================] - 6s 104ms/step - loss: 8.9015e-04 - mean_absolute_error: 0.0221\n",
      "Epoch 39/100\n",
      "54/54 [==============================] - 5s 100ms/step - loss: 8.2008e-04 - mean_absolute_error: 0.0211\n",
      "Epoch 40/100\n",
      "54/54 [==============================] - 6s 106ms/step - loss: 9.0748e-04 - mean_absolute_error: 0.0223\n",
      "Epoch 41/100\n",
      "54/54 [==============================] - 6s 106ms/step - loss: 8.7139e-04 - mean_absolute_error: 0.0221\n",
      "Epoch 42/100\n",
      "54/54 [==============================] - 6s 104ms/step - loss: 8.5837e-04 - mean_absolute_error: 0.0216\n",
      "Epoch 43/100\n",
      "54/54 [==============================] - 5s 100ms/step - loss: 7.3448e-04 - mean_absolute_error: 0.0206\n",
      "Epoch 44/100\n",
      "54/54 [==============================] - 6s 117ms/step - loss: 7.3541e-04 - mean_absolute_error: 0.0201\n",
      "Epoch 45/100\n",
      "54/54 [==============================] - 6s 105ms/step - loss: 7.7888e-04 - mean_absolute_error: 0.0205\n",
      "Epoch 46/100\n",
      "54/54 [==============================] - 6s 106ms/step - loss: 7.9356e-04 - mean_absolute_error: 0.0206 1s - loss: 8.1385e-04 - mean_absol\n",
      "Epoch 47/100\n",
      "54/54 [==============================] - 6s 104ms/step - loss: 7.5235e-04 - mean_absolute_error: 0.0196\n",
      "Epoch 48/100\n",
      "54/54 [==============================] - 6s 106ms/step - loss: 8.4926e-04 - mean_absolute_error: 0.0213\n",
      "Epoch 49/100\n",
      "54/54 [==============================] - 6s 107ms/step - loss: 8.6777e-04 - mean_absolute_error: 0.0212 4s - lo\n",
      "Epoch 50/100\n",
      "54/54 [==============================] - 5s 101ms/step - loss: 8.3447e-04 - mean_absolute_error: 0.0207\n",
      "Epoch 51/100\n",
      "54/54 [==============================] - 6s 104ms/step - loss: 7.1856e-04 - mean_absolute_error: 0.0205\n",
      "Epoch 52/100\n",
      "54/54 [==============================] - 6s 102ms/step - loss: 6.5217e-04 - mean_absolute_error: 0.0192\n",
      "Epoch 53/100\n",
      "54/54 [==============================] - 6s 104ms/step - loss: 7.3402e-04 - mean_absolute_error: 0.0201\n",
      "Epoch 54/100\n",
      "54/54 [==============================] - 6s 104ms/step - loss: 6.7693e-04 - mean_absolute_error: 0.0194\n",
      "Epoch 55/100\n",
      "54/54 [==============================] - 6s 107ms/step - loss: 7.0976e-04 - mean_absolute_error: 0.0196 4s - loss: 6.9528e-04 - mea - ETA: 1s - loss: 7.0741e-04 - mean_absolut\n",
      "Epoch 56/100\n",
      "54/54 [==============================] - 6s 103ms/step - loss: 7.2267e-04 - mean_absolute_error: 0.0198\n",
      "Epoch 57/100\n",
      "54/54 [==============================] - 6s 103ms/step - loss: 6.5494e-04 - mean_absolute_error: 0.0190\n",
      "Epoch 58/100\n",
      "54/54 [==============================] - 6s 102ms/step - loss: 7.1353e-04 - mean_absolute_error: 0.0191\n",
      "Epoch 59/100\n",
      "54/54 [==============================] - 5s 101ms/step - loss: 6.2721e-04 - mean_absolute_error: 0.0189 4s - loss:\n",
      "Epoch 60/100\n",
      "54/54 [==============================] - 5s 100ms/step - loss: 7.0916e-04 - mean_absolute_error: 0.0196\n",
      "Epoch 61/100\n",
      "54/54 [==============================] - 5s 99ms/step - loss: 6.5214e-04 - mean_absolute_error: 0.0188\n",
      "Epoch 62/100\n",
      "54/54 [==============================] - 6s 102ms/step - loss: 7.1431e-04 - mean_absolute_error: 0.0191\n",
      "Epoch 63/100\n",
      "54/54 [==============================] - 6s 102ms/step - loss: 6.3447e-04 - mean_absolute_error: 0.0188 4s - loss\n",
      "Epoch 64/100\n",
      "54/54 [==============================] - 6s 103ms/step - loss: 7.5778e-04 - mean_absolute_error: 0.0196\n",
      "Epoch 65/100\n",
      "54/54 [==============================] - 6s 105ms/step - loss: 6.7505e-04 - mean_absolute_error: 0.0192\n",
      "Epoch 66/100\n",
      "54/54 [==============================] - 6s 103ms/step - loss: 6.4528e-04 - mean_absolute_error: 0.0183\n",
      "Epoch 67/100\n",
      "54/54 [==============================] - 6s 103ms/step - loss: 6.4987e-04 - mean_absolute_error: 0.0188\n",
      "Epoch 68/100\n"
     ]
    },
    {
     "name": "stdout",
     "output_type": "stream",
     "text": [
      "54/54 [==============================] - 5s 101ms/step - loss: 6.4674e-04 - mean_absolute_error: 0.0182\n",
      "Epoch 69/100\n",
      "54/54 [==============================] - 5s 100ms/step - loss: 6.9032e-04 - mean_absolute_error: 0.0189 2s - loss: 7.2595e-04 - mea\n",
      "Epoch 70/100\n",
      "54/54 [==============================] - 5s 99ms/step - loss: 6.6860e-04 - mean_absolute_error: 0.0189\n",
      "Epoch 71/100\n",
      "54/54 [==============================] - 5s 101ms/step - loss: 6.1904e-04 - mean_absolute_error: 0.0186 0s - loss: 6.1116e-04 - mean_absolute_err\n",
      "Epoch 72/100\n",
      "54/54 [==============================] - 5s 101ms/step - loss: 7.0744e-04 - mean_absolute_error: 0.0194\n",
      "Epoch 73/100\n",
      "54/54 [==============================] - 6s 105ms/step - loss: 6.3565e-04 - mean_absolute_error: 0.0187\n",
      "Epoch 74/100\n",
      "54/54 [==============================] - 6s 104ms/step - loss: 6.4694e-04 - mean_absolute_error: 0.0185 4s - los\n",
      "Epoch 75/100\n",
      "54/54 [==============================] - 6s 103ms/step - loss: 6.4455e-04 - mean_absolute_error: 0.0187\n",
      "Epoch 76/100\n",
      "54/54 [==============================] - 6s 109ms/step - loss: 6.2890e-04 - mean_absolute_error: 0.0189 3s - loss: 6.627\n",
      "Epoch 77/100\n",
      "54/54 [==============================] - 5s 102ms/step - loss: 6.2380e-04 - mean_absolute_error: 0.0191\n",
      "Epoch 78/100\n",
      "54/54 [==============================] - 6s 102ms/step - loss: 6.5966e-04 - mean_absolute_error: 0.0190\n",
      "Epoch 79/100\n",
      "54/54 [==============================] - 5s 101ms/step - loss: 5.5517e-04 - mean_absolute_error: 0.0178\n",
      "Epoch 80/100\n",
      "54/54 [==============================] - 6s 105ms/step - loss: 6.6603e-04 - mean_absolute_error: 0.0187\n",
      "Epoch 81/100\n",
      "54/54 [==============================] - 6s 102ms/step - loss: 5.4106e-04 - mean_absolute_error: 0.0169\n",
      "Epoch 82/100\n",
      "54/54 [==============================] - ETA: 0s - loss: 6.5276e-04 - mean_absolute_error: 0.0192- ETA: 1s - loss: 6.7100e-04 - mean_absolut - 6s 103ms/step - loss: 6.5167e-04 - mean_absolute_error: 0.0192\n",
      "Epoch 83/100\n",
      "54/54 [==============================] - 6s 104ms/step - loss: 6.3157e-04 - mean_absolute_error: 0.0182\n",
      "Epoch 84/100\n",
      "54/54 [==============================] - 6s 102ms/step - loss: 5.8096e-04 - mean_absolute_error: 0.0181\n",
      "Epoch 85/100\n",
      "54/54 [==============================] - 6s 103ms/step - loss: 5.5795e-04 - mean_absolute_error: 0.0173\n",
      "Epoch 86/100\n",
      "54/54 [==============================] - 6s 102ms/step - loss: 6.4511e-04 - mean_absolute_error: 0.0185\n",
      "Epoch 87/100\n",
      "54/54 [==============================] - 6s 107ms/step - loss: 5.8478e-04 - mean_absolute_error: 0.0172\n",
      "Epoch 88/100\n",
      "54/54 [==============================] - 6s 102ms/step - loss: 5.7149e-04 - mean_absolute_error: 0.0177 4s - loss: 5.8810e-04 - mean_absolute_ - ETA: 2s - loss: 5.8114e-04 - mean_absolute_error: 0.01 - ETA: 2s - loss: 5.7950e-04 -\n",
      "Epoch 89/100\n",
      "54/54 [==============================] - 5s 100ms/step - loss: 6.2701e-04 - mean_absolute_error: 0.0180\n",
      "Epoch 90/100\n",
      "54/54 [==============================] - 5s 100ms/step - loss: 5.3771e-04 - mean_absolute_error: 0.0175 3s - loss: 4.7617e-04 - mean_absolu - ETA: 1s - loss: 5.2098e-04 - mean_abs\n",
      "Epoch 91/100\n",
      "54/54 [==============================] - 6s 103ms/step - loss: 5.3453e-04 - mean_absolute_error: 0.0172 1s - loss: 5.2557e-04 - mean_absolute_erro - ETA: 0s - loss: 5.2891e-04 - mean_absolute_erro\n",
      "Epoch 92/100\n",
      "54/54 [==============================] - 6s 106ms/step - loss: 5.4090e-04 - mean_absolute_error: 0.0171\n",
      "Epoch 93/100\n",
      "54/54 [==============================] - 5s 101ms/step - loss: 5.8103e-04 - mean_absolute_error: 0.0179\n",
      "Epoch 94/100\n",
      "54/54 [==============================] - 6s 113ms/step - loss: 5.4942e-04 - mean_absolute_error: 0.0172\n",
      "Epoch 95/100\n",
      "54/54 [==============================] - 5s 101ms/step - loss: 5.6978e-04 - mean_absolute_error: 0.0177\n",
      "Epoch 96/100\n",
      "54/54 [==============================] - 6s 102ms/step - loss: 6.0327e-04 - mean_absolute_error: 0.0183\n",
      "Epoch 97/100\n",
      "54/54 [==============================] - 5s 101ms/step - loss: 5.2677e-04 - mean_absolute_error: 0.0170 4\n",
      "Epoch 98/100\n",
      "54/54 [==============================] - 6s 105ms/step - loss: 6.2530e-04 - mean_absolute_error: 0.0178 2s - loss: 6.8236e-04 - \n",
      "Epoch 99/100\n",
      "54/54 [==============================] - 6s 109ms/step - loss: 6.9880e-04 - mean_absolute_error: 0.0189\n",
      "Epoch 100/100\n",
      "54/54 [==============================] - 6s 103ms/step - loss: 5.8029e-04 - mean_absolute_error: 0.0175\n"
     ]
    }
   ],
   "source": [
    "regressor = Sequential() #  4 layers - each will have 50 neurons.  20% is the probability that each neuron will become inactivate during each epoch.\n",
    "#the result will be a bit worse, but in the testing phase i will have a better generalization\n",
    "regressor.add(LSTM(units = 50, return_sequences = True, input_shape = (x_train.shape[1], 1)))\n",
    "regressor.add(Dropout(0.2))  \n",
    "\n",
    "regressor.add(LSTM(units = 50, return_sequences = True))\n",
    "regressor.add(Dropout(0.2))  \n",
    "\n",
    "regressor.add(LSTM(units = 50)) # here i don't need the history cos I only need the result\n",
    "regressor.add(Dropout(0.2))\n",
    "\n",
    "# we add the Dense layer that specifies the output of 1 unit, the output is 1 \n",
    "regressor.add(Dense(units = 1, activation = 'linear')) # last layer is a dense layer with linear because I have continuous values\n",
    "\n",
    "# we compile our model using the popular adam optimizer and set the loss as the mean_squarred_error. \n",
    "#This will compute the mean of the squared errors.  \n",
    "regressor.compile(optimizer = 'rmsprop', loss = 'mean_squared_error',metrics = ['mean_absolute_error'])\n",
    "# mean_squared_error = measures the average of the squares of the errors / \n",
    "# Notice - if one of the errors is too big, it will impact the results a lot. \n",
    "# This is why \"mean absolute percentage error\" is used as a great solution to calculate the error.\n",
    "\n",
    "regressor.fit(x_train, y_train, epochs = 100, batch_size = 32) "
   ]
  },
  {
   "cell_type": "markdown",
   "metadata": {},
   "source": [
    "### Predicting Future Stock using the Test Set\n",
    "### In order to predict future stock prices, we will need to do a couple of steps: \n",
    "* Step 1) Load the test set, get rid of null values and choose the Open collumn \n",
    "* Step 2) Merge the training set and the test set on the 0 axis.\n",
    "* Step 3) Set the time step as 90 (as done previously) and reshape\n",
    "* Step 4) Use MinMaxScaler to transform and reshape the dataset as done previously\n",
    "* Step 5) After making the predictions we will have to use inverse_transform to get back the stock prices in normal readable format."
   ]
  },
  {
   "cell_type": "markdown",
   "metadata": {},
   "source": [
    "#### Step 1) Load the test set, get rid of null values and choose the Open collumn "
   ]
  },
  {
   "cell_type": "code",
   "execution_count": 354,
   "metadata": {},
   "outputs": [],
   "source": [
    "# Now loading the testing set\n",
    "dataset_test = pd.read_csv('dataset_2019.csv')"
   ]
  },
  {
   "cell_type": "code",
   "execution_count": 355,
   "metadata": {},
   "outputs": [],
   "source": [
    "# Drop null values\n",
    "dataset_test = dataset_test.dropna()"
   ]
  },
  {
   "cell_type": "code",
   "execution_count": 356,
   "metadata": {},
   "outputs": [
    {
     "data": {
      "text/plain": [
       "(251, 7)"
      ]
     },
     "execution_count": 356,
     "metadata": {},
     "output_type": "execute_result"
    }
   ],
   "source": [
    "dataset_test.shape"
   ]
  },
  {
   "cell_type": "code",
   "execution_count": 357,
   "metadata": {},
   "outputs": [
    {
     "data": {
      "text/html": [
       "<div>\n",
       "<style scoped>\n",
       "    .dataframe tbody tr th:only-of-type {\n",
       "        vertical-align: middle;\n",
       "    }\n",
       "\n",
       "    .dataframe tbody tr th {\n",
       "        vertical-align: top;\n",
       "    }\n",
       "\n",
       "    .dataframe thead th {\n",
       "        text-align: right;\n",
       "    }\n",
       "</style>\n",
       "<table border=\"1\" class=\"dataframe\">\n",
       "  <thead>\n",
       "    <tr style=\"text-align: right;\">\n",
       "      <th></th>\n",
       "      <th>Date</th>\n",
       "      <th>Open</th>\n",
       "      <th>High</th>\n",
       "      <th>Low</th>\n",
       "      <th>Close</th>\n",
       "      <th>Adj Close</th>\n",
       "      <th>Volume</th>\n",
       "    </tr>\n",
       "  </thead>\n",
       "  <tbody>\n",
       "    <tr>\n",
       "      <th>0</th>\n",
       "      <td>2019-01-02</td>\n",
       "      <td>13.19</td>\n",
       "      <td>14.11</td>\n",
       "      <td>13.09</td>\n",
       "      <td>14.01</td>\n",
       "      <td>13.280211</td>\n",
       "      <td>31001800</td>\n",
       "    </tr>\n",
       "    <tr>\n",
       "      <th>1</th>\n",
       "      <td>2019-01-03</td>\n",
       "      <td>14.40</td>\n",
       "      <td>14.42</td>\n",
       "      <td>13.93</td>\n",
       "      <td>14.26</td>\n",
       "      <td>13.517187</td>\n",
       "      <td>25681900</td>\n",
       "    </tr>\n",
       "    <tr>\n",
       "      <th>2</th>\n",
       "      <td>2019-01-04</td>\n",
       "      <td>14.43</td>\n",
       "      <td>14.80</td>\n",
       "      <td>14.31</td>\n",
       "      <td>14.76</td>\n",
       "      <td>13.991143</td>\n",
       "      <td>21083900</td>\n",
       "    </tr>\n",
       "    <tr>\n",
       "      <th>3</th>\n",
       "      <td>2019-01-07</td>\n",
       "      <td>14.91</td>\n",
       "      <td>15.54</td>\n",
       "      <td>14.45</td>\n",
       "      <td>15.06</td>\n",
       "      <td>14.275516</td>\n",
       "      <td>37305100</td>\n",
       "    </tr>\n",
       "    <tr>\n",
       "      <th>4</th>\n",
       "      <td>2019-01-08</td>\n",
       "      <td>15.34</td>\n",
       "      <td>15.43</td>\n",
       "      <td>15.07</td>\n",
       "      <td>15.20</td>\n",
       "      <td>14.408222</td>\n",
       "      <td>17556900</td>\n",
       "    </tr>\n",
       "  </tbody>\n",
       "</table>\n",
       "</div>"
      ],
      "text/plain": [
       "         Date   Open   High    Low  Close  Adj Close    Volume\n",
       "0  2019-01-02  13.19  14.11  13.09  14.01  13.280211  31001800\n",
       "1  2019-01-03  14.40  14.42  13.93  14.26  13.517187  25681900\n",
       "2  2019-01-04  14.43  14.80  14.31  14.76  13.991143  21083900\n",
       "3  2019-01-07  14.91  15.54  14.45  15.06  14.275516  37305100\n",
       "4  2019-01-08  15.34  15.43  15.07  15.20  14.408222  17556900"
      ]
     },
     "execution_count": 357,
     "metadata": {},
     "output_type": "execute_result"
    }
   ],
   "source": [
    "dataset_test.head()"
   ]
  },
  {
   "cell_type": "code",
   "execution_count": 358,
   "metadata": {},
   "outputs": [],
   "source": [
    "# Selecting the Open column that we’ll use in our modeling\n",
    "real_stock_price = dataset_test.iloc[:, 1:2].values  \n",
    "# notice ==>> df.iloc[:, 1:2] returns a dataframe whereas df.iloc[:, 1] returns a series \n",
    "# notice ==>\"Open\" column is the starting price while the Close column is the final price of a stock on a particular trading day. "
   ]
  },
  {
   "cell_type": "code",
   "execution_count": 359,
   "metadata": {},
   "outputs": [
    {
     "data": {
      "text/html": [
       "<div>\n",
       "<style scoped>\n",
       "    .dataframe tbody tr th:only-of-type {\n",
       "        vertical-align: middle;\n",
       "    }\n",
       "\n",
       "    .dataframe tbody tr th {\n",
       "        vertical-align: top;\n",
       "    }\n",
       "\n",
       "    .dataframe thead th {\n",
       "        text-align: right;\n",
       "    }\n",
       "</style>\n",
       "<table border=\"1\" class=\"dataframe\">\n",
       "  <thead>\n",
       "    <tr style=\"text-align: right;\">\n",
       "      <th></th>\n",
       "      <th>Date</th>\n",
       "      <th>Open</th>\n",
       "      <th>High</th>\n",
       "      <th>Low</th>\n",
       "      <th>Close</th>\n",
       "      <th>Adj Close</th>\n",
       "      <th>Volume</th>\n",
       "    </tr>\n",
       "  </thead>\n",
       "  <tbody>\n",
       "    <tr>\n",
       "      <th>0</th>\n",
       "      <td>2019-01-02</td>\n",
       "      <td>13.190000</td>\n",
       "      <td>14.110000</td>\n",
       "      <td>13.09</td>\n",
       "      <td>14.010000</td>\n",
       "      <td>13.280211</td>\n",
       "      <td>31001800</td>\n",
       "    </tr>\n",
       "    <tr>\n",
       "      <th>1</th>\n",
       "      <td>2019-01-03</td>\n",
       "      <td>14.400000</td>\n",
       "      <td>14.420000</td>\n",
       "      <td>13.93</td>\n",
       "      <td>14.260000</td>\n",
       "      <td>13.517187</td>\n",
       "      <td>25681900</td>\n",
       "    </tr>\n",
       "    <tr>\n",
       "      <th>2</th>\n",
       "      <td>2019-01-04</td>\n",
       "      <td>14.430000</td>\n",
       "      <td>14.800000</td>\n",
       "      <td>14.31</td>\n",
       "      <td>14.760000</td>\n",
       "      <td>13.991143</td>\n",
       "      <td>21083900</td>\n",
       "    </tr>\n",
       "    <tr>\n",
       "      <th>3</th>\n",
       "      <td>2019-01-07</td>\n",
       "      <td>14.910000</td>\n",
       "      <td>15.540000</td>\n",
       "      <td>14.45</td>\n",
       "      <td>15.060000</td>\n",
       "      <td>14.275516</td>\n",
       "      <td>37305100</td>\n",
       "    </tr>\n",
       "    <tr>\n",
       "      <th>4</th>\n",
       "      <td>2019-01-08</td>\n",
       "      <td>15.340000</td>\n",
       "      <td>15.430000</td>\n",
       "      <td>15.07</td>\n",
       "      <td>15.200000</td>\n",
       "      <td>14.408222</td>\n",
       "      <td>17556900</td>\n",
       "    </tr>\n",
       "    <tr>\n",
       "      <th>...</th>\n",
       "      <td>...</td>\n",
       "      <td>...</td>\n",
       "      <td>...</td>\n",
       "      <td>...</td>\n",
       "      <td>...</td>\n",
       "      <td>...</td>\n",
       "      <td>...</td>\n",
       "    </tr>\n",
       "    <tr>\n",
       "      <th>246</th>\n",
       "      <td>2019-12-23</td>\n",
       "      <td>15.690000</td>\n",
       "      <td>15.890000</td>\n",
       "      <td>15.65</td>\n",
       "      <td>15.880000</td>\n",
       "      <td>15.201505</td>\n",
       "      <td>12685600</td>\n",
       "    </tr>\n",
       "    <tr>\n",
       "      <th>247</th>\n",
       "      <td>2019-12-24</td>\n",
       "      <td>15.860000</td>\n",
       "      <td>15.970000</td>\n",
       "      <td>15.79</td>\n",
       "      <td>15.870000</td>\n",
       "      <td>15.191932</td>\n",
       "      <td>2875700</td>\n",
       "    </tr>\n",
       "    <tr>\n",
       "      <th>248</th>\n",
       "      <td>2019-12-26</td>\n",
       "      <td>16.040001</td>\n",
       "      <td>16.129999</td>\n",
       "      <td>15.98</td>\n",
       "      <td>16.129999</td>\n",
       "      <td>15.440823</td>\n",
       "      <td>9118300</td>\n",
       "    </tr>\n",
       "    <tr>\n",
       "      <th>249</th>\n",
       "      <td>2019-12-27</td>\n",
       "      <td>16.080000</td>\n",
       "      <td>16.120001</td>\n",
       "      <td>15.92</td>\n",
       "      <td>15.920000</td>\n",
       "      <td>15.239796</td>\n",
       "      <td>10012400</td>\n",
       "    </tr>\n",
       "    <tr>\n",
       "      <th>250</th>\n",
       "      <td>2019-12-30</td>\n",
       "      <td>16.090000</td>\n",
       "      <td>16.110001</td>\n",
       "      <td>15.88</td>\n",
       "      <td>15.900000</td>\n",
       "      <td>15.220650</td>\n",
       "      <td>9106300</td>\n",
       "    </tr>\n",
       "  </tbody>\n",
       "</table>\n",
       "<p>251 rows × 7 columns</p>\n",
       "</div>"
      ],
      "text/plain": [
       "           Date       Open       High    Low      Close  Adj Close    Volume\n",
       "0    2019-01-02  13.190000  14.110000  13.09  14.010000  13.280211  31001800\n",
       "1    2019-01-03  14.400000  14.420000  13.93  14.260000  13.517187  25681900\n",
       "2    2019-01-04  14.430000  14.800000  14.31  14.760000  13.991143  21083900\n",
       "3    2019-01-07  14.910000  15.540000  14.45  15.060000  14.275516  37305100\n",
       "4    2019-01-08  15.340000  15.430000  15.07  15.200000  14.408222  17556900\n",
       "..          ...        ...        ...    ...        ...        ...       ...\n",
       "246  2019-12-23  15.690000  15.890000  15.65  15.880000  15.201505  12685600\n",
       "247  2019-12-24  15.860000  15.970000  15.79  15.870000  15.191932   2875700\n",
       "248  2019-12-26  16.040001  16.129999  15.98  16.129999  15.440823   9118300\n",
       "249  2019-12-27  16.080000  16.120001  15.92  15.920000  15.239796  10012400\n",
       "250  2019-12-30  16.090000  16.110001  15.88  15.900000  15.220650   9106300\n",
       "\n",
       "[251 rows x 7 columns]"
      ]
     },
     "execution_count": 359,
     "metadata": {},
     "output_type": "execute_result"
    }
   ],
   "source": [
    "dataset_test"
   ]
  },
  {
   "cell_type": "code",
   "execution_count": 360,
   "metadata": {},
   "outputs": [
    {
     "data": {
      "text/plain": [
       "0      13.190000\n",
       "1      14.400000\n",
       "2      14.430000\n",
       "3      14.910000\n",
       "4      15.340000\n",
       "         ...    \n",
       "246    15.690000\n",
       "247    15.860000\n",
       "248    16.040001\n",
       "249    16.080000\n",
       "250    16.090000\n",
       "Name: Open, Length: 251, dtype: float64"
      ]
     },
     "execution_count": 360,
     "metadata": {},
     "output_type": "execute_result"
    }
   ],
   "source": [
    "dataset_test.Open"
   ]
  },
  {
   "cell_type": "code",
   "execution_count": 361,
   "metadata": {},
   "outputs": [
    {
     "data": {
      "text/html": [
       "<div>\n",
       "<style scoped>\n",
       "    .dataframe tbody tr th:only-of-type {\n",
       "        vertical-align: middle;\n",
       "    }\n",
       "\n",
       "    .dataframe tbody tr th {\n",
       "        vertical-align: top;\n",
       "    }\n",
       "\n",
       "    .dataframe thead th {\n",
       "        text-align: right;\n",
       "    }\n",
       "</style>\n",
       "<table border=\"1\" class=\"dataframe\">\n",
       "  <thead>\n",
       "    <tr style=\"text-align: right;\">\n",
       "      <th></th>\n",
       "      <th>Open</th>\n",
       "    </tr>\n",
       "  </thead>\n",
       "  <tbody>\n",
       "    <tr>\n",
       "      <th>0</th>\n",
       "      <td>25.370001</td>\n",
       "    </tr>\n",
       "  </tbody>\n",
       "</table>\n",
       "</div>"
      ],
      "text/plain": [
       "        Open\n",
       "0  25.370001"
      ]
     },
     "execution_count": 361,
     "metadata": {},
     "output_type": "execute_result"
    }
   ],
   "source": [
    "pd.DataFrame({'Open':dataset_train[0]})"
   ]
  },
  {
   "cell_type": "code",
   "execution_count": 362,
   "metadata": {},
   "outputs": [
    {
     "data": {
      "text/html": [
       "<div>\n",
       "<style scoped>\n",
       "    .dataframe tbody tr th:only-of-type {\n",
       "        vertical-align: middle;\n",
       "    }\n",
       "\n",
       "    .dataframe tbody tr th {\n",
       "        vertical-align: top;\n",
       "    }\n",
       "\n",
       "    .dataframe thead th {\n",
       "        text-align: right;\n",
       "    }\n",
       "</style>\n",
       "<table border=\"1\" class=\"dataframe\">\n",
       "  <thead>\n",
       "    <tr style=\"text-align: right;\">\n",
       "      <th></th>\n",
       "      <th>0</th>\n",
       "    </tr>\n",
       "  </thead>\n",
       "  <tbody>\n",
       "    <tr>\n",
       "      <th>0</th>\n",
       "      <td>25.370001</td>\n",
       "    </tr>\n",
       "    <tr>\n",
       "      <th>1</th>\n",
       "      <td>25.910000</td>\n",
       "    </tr>\n",
       "    <tr>\n",
       "      <th>2</th>\n",
       "      <td>26.309999</td>\n",
       "    </tr>\n",
       "    <tr>\n",
       "      <th>3</th>\n",
       "      <td>26.250000</td>\n",
       "    </tr>\n",
       "    <tr>\n",
       "      <th>4</th>\n",
       "      <td>26.080000</td>\n",
       "    </tr>\n",
       "    <tr>\n",
       "      <th>...</th>\n",
       "      <td>...</td>\n",
       "    </tr>\n",
       "    <tr>\n",
       "      <th>1754</th>\n",
       "      <td>12.500000</td>\n",
       "    </tr>\n",
       "    <tr>\n",
       "      <th>1755</th>\n",
       "      <td>12.280000</td>\n",
       "    </tr>\n",
       "    <tr>\n",
       "      <th>1756</th>\n",
       "      <td>12.000000</td>\n",
       "    </tr>\n",
       "    <tr>\n",
       "      <th>1757</th>\n",
       "      <td>12.560000</td>\n",
       "    </tr>\n",
       "    <tr>\n",
       "      <th>1758</th>\n",
       "      <td>13.010000</td>\n",
       "    </tr>\n",
       "  </tbody>\n",
       "</table>\n",
       "<p>1759 rows × 1 columns</p>\n",
       "</div>"
      ],
      "text/plain": [
       "              0\n",
       "0     25.370001\n",
       "1     25.910000\n",
       "2     26.309999\n",
       "3     26.250000\n",
       "4     26.080000\n",
       "...         ...\n",
       "1754  12.500000\n",
       "1755  12.280000\n",
       "1756  12.000000\n",
       "1757  12.560000\n",
       "1758  13.010000\n",
       "\n",
       "[1759 rows x 1 columns]"
      ]
     },
     "execution_count": 362,
     "metadata": {},
     "output_type": "execute_result"
    }
   ],
   "source": [
    "pd.DataFrame(dataset_train)"
   ]
  },
  {
   "cell_type": "markdown",
   "metadata": {},
   "source": [
    "#### Step 2) Merge the training set and the test set on the 0 axis."
   ]
  },
  {
   "cell_type": "code",
   "execution_count": 363,
   "metadata": {},
   "outputs": [],
   "source": [
    "dataset_totality = pd.concat((pd.DataFrame(dataset_train), dataset_test['Open']), axis = 0)\n",
    " "
   ]
  },
  {
   "cell_type": "markdown",
   "metadata": {},
   "source": [
    "#### Step 3) Set the time step as 45 (as done previously) reshape"
   ]
  },
  {
   "cell_type": "code",
   "execution_count": 364,
   "metadata": {},
   "outputs": [],
   "source": [
    "inputs = dataset_totality[len(dataset_totality) - len(dataset_test) - 45:].values\n",
    "# No meu dataset total eu quero garantir q pego só as linhas do dataset treino.  \n",
    "inputs = inputs.reshape(-1, 1) #reshape to turn it into a vector "
   ]
  },
  {
   "cell_type": "markdown",
   "metadata": {},
   "source": [
    "#### Step 4) Use MinMaxScaler to transform and reshape the dataset as done previously"
   ]
  },
  {
   "cell_type": "code",
   "execution_count": 365,
   "metadata": {},
   "outputs": [],
   "source": [
    "inputs = normalizer.transform(inputs) # AFINAL = usar aqui so transform ou fit_transform \n",
    "# Normalization of the test set - Transform features by scaling each feature to a given range."
   ]
  },
  {
   "cell_type": "code",
   "execution_count": 366,
   "metadata": {},
   "outputs": [
    {
     "data": {
      "text/plain": [
       "(296, 1)"
      ]
     },
     "execution_count": 366,
     "metadata": {},
     "output_type": "execute_result"
    }
   ],
   "source": [
    "inputs.shape"
   ]
  },
  {
   "cell_type": "code",
   "execution_count": 367,
   "metadata": {},
   "outputs": [],
   "source": [
    "# Creating data with timesteps for the train_set_scaled\n",
    "# timesteps ==>> checks 45 rows on each step on every sliding window\n",
    "x_test = []\n",
    "for i in range(45, 251):\n",
    "    x_test.append(inputs[i-45:i, 0]) # in other words => [45-45:45, collumn index: 0]\n",
    "\n",
    "x_test = np.array(x_test)\n",
    "x_test = np.reshape(x_test, (x_test.shape[0], x_test.shape[1], 1))\n",
    " \n",
    "# NOTICE == >> we have to reshape our data to 3D DataFrame (panel)\n",
    "# A data frame is a two-dimensional data structure, that is, the data is aligned in rows and columns in a table, a three-dimensional data structure is called panel."
   ]
  },
  {
   "cell_type": "markdown",
   "metadata": {},
   "source": [
    "#### Step 5) After making the predictions we will have to use inverse_transform to get back the stock prices in normal readable format. "
   ]
  },
  {
   "cell_type": "code",
   "execution_count": 368,
   "metadata": {},
   "outputs": [],
   "source": [
    "# Making the predictions\n",
    "predicted_stock_price = regressor.predict(x_test)\n",
    "# Get back the stock prices in normal readable format\n",
    "predicted_stock_price = normalizer.inverse_transform(predicted_stock_price) "
   ]
  },
  {
   "cell_type": "markdown",
   "metadata": {},
   "source": [
    "## PART 3 - Valuation of the Analysis - Plootting results\n"
   ]
  },
  {
   "cell_type": "code",
   "execution_count": 369,
   "metadata": {},
   "outputs": [
    {
     "data": {
      "image/png": "[encoded data removed]",
      "text/plain": [
       "<Figure size 432x288 with 1 Axes>"
      ]
     },
     "metadata": {
      "needs_background": "light"
     },
     "output_type": "display_data"
    }
   ],
   "source": [
    "plt.plot(real_stock_price, color = 'purple', label = 'Petrobras Stock Price')\n",
    "plt.plot(predicted_stock_price, color = 'green', label = 'Predicted Petrobras Stock Price')\n",
    "plt.title('Petrobras Stock Price Prediction')\n",
    "plt.xlabel('Time')\n",
    "plt.ylabel('Petrobras Stock Price')\n",
    "plt.legend()\n",
    "plt.show()\n",
    " "
   ]
  },
  {
   "cell_type": "code",
   "execution_count": 376,
   "metadata": {},
   "outputs": [
    {
     "data": {
      "text/plain": [
       "(251, 1)"
      ]
     },
     "execution_count": 376,
     "metadata": {},
     "output_type": "execute_result"
    }
   ],
   "source": [
    "real_stock_price.shape"
   ]
  },
  {
   "cell_type": "code",
   "execution_count": 377,
   "metadata": {},
   "outputs": [
    {
     "data": {
      "text/plain": [
       "(206, 1)"
      ]
     },
     "execution_count": 377,
     "metadata": {},
     "output_type": "execute_result"
    }
   ],
   "source": [
    "predicted_stock_price.shape"
   ]
  },
  {
   "cell_type": "code",
   "execution_count": 381,
   "metadata": {},
   "outputs": [
    {
     "data": {
      "text/plain": [
       "<tf.Tensor: shape=(206,), dtype=float32, numpy=\n",
       "array([1.44605637e-01, 1.11533546e+00, 2.17769623e-01, 4.23784256e-01,\n",
       "       4.92002487e-01, 3.08820724e-01, 1.12792015e-01, 2.53020287e-01,\n",
       "       1.28539085e-01, 1.10154152e-01, 2.60500908e-01, 1.24276161e-01,\n",
       "       4.26761627e-01, 1.65053368e-01, 1.54283524e-01, 2.98948288e-02,\n",
       "       1.69741631e-01, 2.10571289e-01, 2.16865540e-02, 2.13645935e-01,\n",
       "       4.27454948e-01, 1.43299103e-02, 6.08901978e-02, 1.92522049e-01,\n",
       "       1.50644302e-01, 7.70454407e-02, 4.51709747e-01, 4.85333443e-01,\n",
       "       2.23126411e-01, 2.11288452e-01, 6.07395172e-02, 5.26535034e-01,\n",
       "       7.88307190e-02, 1.19171143e-02, 8.00170898e-02, 2.68077850e-02,\n",
       "       1.76456451e-01, 2.55132675e-01, 1.33584976e-01, 4.08611298e-02,\n",
       "       7.79277802e-01, 3.07716370e-01, 2.76567459e-01, 7.50436783e-02,\n",
       "       3.61836433e-01, 6.25681877e-01, 2.59854317e-01, 5.46066284e-01,\n",
       "       1.61490440e-01, 3.65950584e-01, 7.22503662e-02, 3.02091599e-01,\n",
       "       6.02867126e-01, 2.61919022e-01, 4.50439453e-02, 9.48545456e-01,\n",
       "       6.49232864e-01, 1.19962692e-01, 3.16406250e-01, 8.21463585e-01,\n",
       "       4.85407829e-01, 1.55587196e-01, 2.48400688e-01, 3.18851471e-02,\n",
       "       6.04548454e-01, 3.61330986e-01, 5.97272873e-01, 2.92665482e-01,\n",
       "       7.62691498e-02, 1.51700974e-01, 1.07520008e+00, 6.15529060e-01,\n",
       "       6.59317017e-01, 4.49815750e-01, 3.09820175e-02, 7.88497925e-02,\n",
       "       4.67576981e-02, 1.68196678e-01, 5.11523247e-01, 7.52048492e-02,\n",
       "       8.17108154e-03, 8.14085007e-02, 3.29071999e-01, 6.30200386e-01,\n",
       "       4.97703552e-02, 5.28149605e-01, 2.82684326e-01, 2.54135132e-01,\n",
       "       1.32872581e-01, 2.54174232e-01, 5.14266014e-01, 2.95665741e-01,\n",
       "       4.99792099e-01, 2.17573166e-01, 5.42586327e-01, 3.96177292e-01,\n",
       "       6.77776337e-03, 3.63653183e-01, 3.10488701e-01, 9.71565247e-02,\n",
       "       4.03881073e-02, 6.06441498e-02, 1.78634644e-01, 1.82813644e-01,\n",
       "       1.47911072e-01, 1.70965195e-01, 1.03960037e-01, 2.15730667e-01,\n",
       "       1.05236053e-01, 1.18833542e-01, 5.47389984e-02, 8.52031708e-02,\n",
       "       1.80994987e-01, 1.99198723e-01, 5.21240234e-02, 1.48758888e-01,\n",
       "       3.60698700e-02, 3.50729942e-01, 3.77260208e-01, 1.43358231e-01,\n",
       "       1.95405960e-01, 4.20115471e-01, 3.95889282e-01, 9.88607407e-02,\n",
       "       1.78637505e-01, 5.64116478e-01, 3.78849030e-01, 1.86865807e-01,\n",
       "       1.48267746e-01, 6.56042099e-02, 3.93612862e-01, 1.10464096e-01,\n",
       "       2.46080399e-01, 1.48761749e-01, 3.53242874e-01, 2.89550781e-01,\n",
       "       1.92134857e-01, 1.62937164e-01, 8.35666656e-02, 1.78100586e-01,\n",
       "       7.05490112e-02, 3.27823639e-01, 5.34235954e-01, 6.03130341e-01,\n",
       "       3.00703049e-02, 8.54492188e-04, 4.22333717e-01, 3.24745178e-02,\n",
       "       8.37941170e-01, 2.91601181e-01, 7.62558937e-01, 3.11161995e-01,\n",
       "       1.41659737e-01, 7.07189560e-01, 6.36561394e-01, 3.04605484e-01,\n",
       "       4.96505737e-01, 1.50945663e-01, 1.72585487e-01, 5.72981834e-01,\n",
       "       1.27202034e-01, 4.39843178e-01, 5.34346581e-01, 5.98696709e-01,\n",
       "       3.19103241e-01, 7.20806122e-02, 1.03031158e-01, 2.74315834e-01,\n",
       "       3.78064156e-01, 3.79631042e-01, 4.11214828e-01, 4.62484360e-02,\n",
       "       1.20114326e-01, 2.53257751e-02, 2.03968048e-01, 2.28282928e-01,\n",
       "       9.58852768e-02, 1.66578293e-01, 8.26492310e-02, 2.13912010e-01,\n",
       "       4.30841446e-02, 3.89204979e-01, 2.03261375e-01, 3.14302444e-02,\n",
       "       4.85340118e-01, 1.98864937e-01, 7.18832016e-02, 8.18843842e-02,\n",
       "       1.55495644e-01, 3.80412102e-01, 4.29087639e-01, 9.81636047e-02,\n",
       "       2.04653740e-01, 4.01371956e-01, 4.35342789e-02, 3.36647034e-04,\n",
       "       1.00975037e-01, 1.49955750e-01, 6.05440140e-02, 1.67978287e-01,\n",
       "       3.24778557e-01, 1.29637718e-01, 2.31629372e-01, 1.88021660e-01,\n",
       "       4.86124992e-01, 4.39559937e-01], dtype=float32)>"
      ]
     },
     "execution_count": 381,
     "metadata": {},
     "output_type": "execute_result"
    }
   ],
   "source": [
    "tf.keras.metrics.mean_absolute_error(real_stock_price[0:206], predicted_stock_price).numpy() "
   ]
  },
  {
   "cell_type": "code",
   "execution_count": 387,
   "metadata": {},
   "outputs": [],
   "source": [
    "from sklearn.metrics import mean_absolute_error\n",
    "from sklearn.metrics import mean_squared_error"
   ]
  },
  {
   "cell_type": "markdown",
   "metadata": {},
   "source": [
    "#### Mean absolute error"
   ]
  },
  {
   "cell_type": "code",
   "execution_count": 388,
   "metadata": {},
   "outputs": [
    {
     "data": {
      "text/plain": [
       "0.2652866725552753"
      ]
     },
     "execution_count": 388,
     "metadata": {},
     "output_type": "execute_result"
    }
   ],
   "source": [
    "mean_absolute_error(real_stock_price[0:206], predicted_stock_price)"
   ]
  },
  {
   "cell_type": "markdown",
   "metadata": {},
   "source": [
    "#### Mean squared error"
   ]
  },
  {
   "cell_type": "code",
   "execution_count": 391,
   "metadata": {},
   "outputs": [
    {
     "data": {
      "text/plain": [
       "0.11540797434488108"
      ]
     },
     "execution_count": 391,
     "metadata": {},
     "output_type": "execute_result"
    }
   ],
   "source": [
    " mean_squared_error(real_stock_price[0:206], predicted_stock_price)"
   ]
  },
  {
   "cell_type": "code",
   "execution_count": 370,
   "metadata": {},
   "outputs": [],
   "source": [
    "# NOTICE:\n",
    "\n",
    "# If I INCREASE the range in the loop ==>> means I INCREASE the window, receiving MORE information for training ==>> I will have MORE accuracy  ===>>> BUT I can predict shorter periods of time (because I have less data)   \n",
    "# If I DECREASE the range in the loop ==>> means I DECREASE the window, receiving LESS data for training ==>> Thus, I will have LESS accuracy ==>>  I can predict longer pediods of time (because I have more data )\n"
   ]
  },
  {
   "cell_type": "code",
   "execution_count": null,
   "metadata": {},
   "outputs": [],
   "source": [
    "Range 2 \n",
    "\n",
    "1,2,3,4,5,6,7,8\n",
    "\n",
    "1,2 > 3\n",
    "2,3 > 4\n",
    "3,4 > 5\n",
    "4,5 > 6\n",
    "5,6 > 7\n",
    "6,7 > 8\n",
    "\n"
   ]
  },
  {
   "cell_type": "code",
   "execution_count": null,
   "metadata": {},
   "outputs": [],
   "source": [
    "Range 3 \n",
    "\n",
    "1,2,3,4,5,6,7,8\n",
    "\n",
    "    X > Y\n",
    "1,2,3 > 4\n",
    "2,3,4 > 5\n",
    "3,4,5 > 6\n",
    "4,5,6 > 7\n",
    "5,6,7 > 8\n",
    "\n",
    "Note ==>> higher range -> more information -> less data to train  "
   ]
  }
 ],
 "metadata": {
  "kernelspec": {
   "display_name": "Python 3",
   "language": "python",
   "name": "python3"
  },
  "language_info": {
   "codemirror_mode": {
    "name": "ipython",
    "version": 3
   },
   "file_extension": ".py",
   "mimetype": "text/x-python",
   "name": "python",
   "nbconvert_exporter": "python",
   "pygments_lexer": "ipython3",
   "version": "3.8.6"
  }
 },
 "nbformat": 4,
 "nbformat_minor": 4
}
